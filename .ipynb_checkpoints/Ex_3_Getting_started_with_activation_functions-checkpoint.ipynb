{
 "cells": [
  {
   "cell_type": "code",
   "execution_count": null,
   "metadata": {
    "id": "iT4svqWgM0NM"
   },
   "outputs": [],
   "source": [
    "import numpy as np\n",
    "import pandas as pd\n",
    "import matplotlib.pyplot as plt"
   ]
  },
  {
   "cell_type": "code",
   "execution_count": null,
   "metadata": {
    "id": "U7k67amgNGaa"
   },
   "outputs": [],
   "source": [
    "from sklearn.model_selection import train_test_split\n",
    "from keras.models import Sequential\n",
    "from keras.layers import Dense\n",
    "from keras.utils import to_categorical\n",
    "from keras.callbacks import Callback"
   ]
  },
  {
   "cell_type": "code",
   "execution_count": null,
   "metadata": {
    "id": "VheznnYSN0uM"
   },
   "outputs": [],
   "source": [
    "from keras.datasets import mnist"
   ]
  },
  {
   "cell_type": "code",
   "execution_count": null,
   "metadata": {
    "id": "HMpEyI23N9pF"
   },
   "outputs": [],
   "source": [
    "import random\n",
    "SEED = random.randint(1,10000)"
   ]
  },
  {
   "cell_type": "code",
   "execution_count": null,
   "metadata": {
    "colab": {
     "base_uri": "https://localhost:8080/"
    },
    "id": "pe8WBtxPOKfX",
    "outputId": "a3482a14-6736-41f8-c3e3-4c04dd52301e"
   },
   "outputs": [
    {
     "name": "stdout",
     "output_type": "stream",
     "text": [
      "Downloading data from https://storage.googleapis.com/tensorflow/tf-keras-datasets/mnist.npz\n",
      "11490434/11490434 [==============================] - 0s 0us/step\n"
     ]
    }
   ],
   "source": [
    "(X_train,y_train),(X_val, y_val) = mnist.load_data()"
   ]
  },
  {
   "cell_type": "code",
   "execution_count": null,
   "metadata": {
    "colab": {
     "base_uri": "https://localhost:8080/",
     "height": 102
    },
    "id": "f3f5jLV4OZRv",
    "outputId": "b1f7580b-cceb-48ff-eb5b-2f6b665dbcb7"
   },
   "outputs": [
    {
     "data": {
      "image/png": "[encoded data removed]",
      "text/plain": [
       "<Figure size 864x864 with 10 Axes>"
      ]
     },
     "metadata": {
      "needs_background": "light"
     },
     "output_type": "display_data"
    }
   ],
   "source": [
    "unique_labels = set(y_train)\n",
    "plt.figure(figsize=(12,12))\n",
    "i = 1\n",
    "for label in unique_labels:\n",
    "  image = X_train[y_train.tolist().index(label)]\n",
    "  plt.subplot(10,10,i)\n",
    "  plt.axis('off')\n",
    "  plt.title(\"{0}: ({1})\".format(label, y_train.tolist().count(label)))\n",
    "  i += 1\n",
    "  _ = plt.imshow(image, cmap = \"gray\")\n",
    "plt.show()"
   ]
  },
  {
   "cell_type": "code",
   "execution_count": null,
   "metadata": {
    "id": "7JQ2N3aeQDiu"
   },
   "outputs": [],
   "source": [
    "X_train = X_train.astype('float32')/255\n",
    "X_val = X_val.astype('float32')/255"
   ]
  },
  {
   "cell_type": "code",
   "execution_count": null,
   "metadata": {
    "id": "gXapBRG0TVbo"
   },
   "outputs": [],
   "source": [
    "y_train = to_categorical(y_train,10)\n",
    "y_val = to_categorical(y_val,10)"
   ]
  },
  {
   "cell_type": "code",
   "execution_count": null,
   "metadata": {
    "id": "MvdqSMLsTuZ3"
   },
   "outputs": [],
   "source": [
    "X_train = np.reshape(X_train,(60000,784))\n",
    "X_val = np.reshape(X_val, (10000,784))"
   ]
  },
  {
   "cell_type": "code",
   "execution_count": null,
   "metadata": {
    "id": "_2zjiIgLUG_A"
   },
   "outputs": [],
   "source": [
    "model_sigmoid = Sequential()\n",
    "model_sigmoid.add(Dense(700, input_dim=784,activation='sigmoid'))\n",
    "model_sigmoid.add(Dense(700,activation='sigmoid'))\n",
    "model_sigmoid.add(Dense(700,activation='sigmoid'))\n",
    "model_sigmoid.add(Dense(700,activation='sigmoid'))\n",
    "model_sigmoid.add(Dense(700,activation='sigmoid'))\n",
    "model_sigmoid.add(Dense(350,activation='sigmoid'))\n",
    "model_sigmoid.add(Dense(100,activation='sigmoid'))\n",
    "model_sigmoid.add(Dense(10,activation='softmax'))"
   ]
  },
  {
   "cell_type": "code",
   "execution_count": null,
   "metadata": {
    "id": "K7AztVzmU6re"
   },
   "outputs": [],
   "source": [
    "model_sigmoid.compile(loss='categorical_crossentropy',optimizer='sgd',metrics= ['accuracy'])"
   ]
  },
  {
   "cell_type": "code",
   "execution_count": null,
   "metadata": {
    "id": "1ySIt6PbVZHw"
   },
   "outputs": [],
   "source": [
    "model_relu = Sequential()\n",
    "model_relu.add(Dense(700, input_dim=784,activation='relu'))\n",
    "model_relu.add(Dense(700,activation='relu'))\n",
    "model_relu.add(Dense(700,activation='relu'))\n",
    "model_relu.add(Dense(700,activation='relu'))\n",
    "model_relu.add(Dense(700,activation='relu'))\n",
    "model_relu.add(Dense(350,activation='relu'))\n",
    "model_relu.add(Dense(100,activation='relu'))\n",
    "model_relu.add(Dense(10,activation='softmax'))"
   ]
  },
  {
   "cell_type": "code",
   "execution_count": null,
   "metadata": {
    "id": "sPu4lovfV2XE"
   },
   "outputs": [],
   "source": [
    "model_relu.compile(loss='categorical_crossentropy',optimizer='sgd',metrics= ['accuracy'])"
   ]
  },
  {
   "cell_type": "code",
   "execution_count": null,
   "metadata": {
    "id": "2NQBLbfzV83x"
   },
   "outputs": [],
   "source": [
    "class history_loss(Callback):\n",
    "  def on_train_begin(self,logs = {}):\n",
    "    self.losses = []\n",
    "  def on_batch_end(self, batch, logs = {}):\n",
    "    batch_loss = logs.get('loss')\n",
    "    self.losses.append(batch_loss)"
   ]
  },
  {
   "cell_type": "code",
   "execution_count": null,
   "metadata": {
    "colab": {
     "base_uri": "https://localhost:8080/"
    },
    "id": "Ed7vGby7W5kJ",
    "outputId": "4e119324-dab3-4dfd-ff98-e484b99ebc69"
   },
   "outputs": [
    {
     "name": "stdout",
     "output_type": "stream",
     "text": [
      "Epoch 1/10\n",
      "188/188 - 27s - loss: 2.3136 - accuracy: 0.1104 - val_loss: 2.3022 - val_accuracy: 0.1060 - 27s/epoch - 143ms/step\n",
      "Epoch 2/10\n",
      "188/188 - 30s - loss: 2.3013 - accuracy: 0.1136 - val_loss: 2.3020 - val_accuracy: 0.1081 - 30s/epoch - 162ms/step\n",
      "Epoch 3/10\n",
      "188/188 - 26s - loss: 2.3015 - accuracy: 0.1135 - val_loss: 2.3025 - val_accuracy: 0.1060 - 26s/epoch - 138ms/step\n",
      "Epoch 4/10\n",
      "188/188 - 21s - loss: 2.3013 - accuracy: 0.1140 - val_loss: 2.3028 - val_accuracy: 0.1060 - 21s/epoch - 113ms/step\n",
      "Epoch 5/10\n",
      "188/188 - 26s - loss: 2.3014 - accuracy: 0.1140 - val_loss: 2.3023 - val_accuracy: 0.1060 - 26s/epoch - 136ms/step\n",
      "Epoch 6/10\n",
      "188/188 - 23s - loss: 2.3014 - accuracy: 0.1140 - val_loss: 2.3026 - val_accuracy: 0.1060 - 23s/epoch - 122ms/step\n",
      "Epoch 7/10\n",
      "188/188 - 26s - loss: 2.3014 - accuracy: 0.1140 - val_loss: 2.3021 - val_accuracy: 0.1060 - 26s/epoch - 137ms/step\n",
      "Epoch 8/10\n",
      "188/188 - 21s - loss: 2.3014 - accuracy: 0.1140 - val_loss: 2.3024 - val_accuracy: 0.1060 - 21s/epoch - 111ms/step\n",
      "Epoch 9/10\n",
      "188/188 - 20s - loss: 2.3015 - accuracy: 0.1140 - val_loss: 2.3022 - val_accuracy: 0.1060 - 20s/epoch - 105ms/step\n",
      "Epoch 10/10\n",
      "188/188 - 24s - loss: 2.3014 - accuracy: 0.1140 - val_loss: 2.3026 - val_accuracy: 0.1060 - 24s/epoch - 129ms/step\n"
     ]
    },
    {
     "data": {
      "text/plain": [
       "<keras.callbacks.History at 0x7faac4cb9d30>"
      ]
     },
     "execution_count": 15,
     "metadata": {},
     "output_type": "execute_result"
    }
   ],
   "source": [
    "n_epochs = 10\n",
    "batch_size = 256\n",
    "validation_split = 0.2\n",
    "history_sigmoid = history_loss()\n",
    "model_sigmoid.fit(X_train, y_train, epochs=n_epochs,batch_size=batch_size,callbacks=[history_sigmoid],validation_split=validation_split, verbose=2)"
   ]
  },
  {
   "cell_type": "code",
   "execution_count": null,
   "metadata": {
    "colab": {
     "base_uri": "https://localhost:8080/"
    },
    "id": "p-FCd90mX0tw",
    "outputId": "2ca9a0bf-be0c-4dc4-8330-40da749f787d"
   },
   "outputs": [
    {
     "name": "stdout",
     "output_type": "stream",
     "text": [
      "Epoch 1/10\n",
      "188/188 - 20s - loss: 2.1489 - accuracy: 0.3639 - val_loss: 1.8108 - val_accuracy: 0.6072 - 20s/epoch - 105ms/step\n",
      "Epoch 2/10\n",
      "188/188 - 24s - loss: 1.1277 - accuracy: 0.7294 - val_loss: 0.6412 - val_accuracy: 0.8130 - 24s/epoch - 129ms/step\n",
      "Epoch 3/10\n",
      "188/188 - 24s - loss: 0.5331 - accuracy: 0.8449 - val_loss: 0.4069 - val_accuracy: 0.8878 - 24s/epoch - 129ms/step\n",
      "Epoch 4/10\n",
      "188/188 - 24s - loss: 0.3926 - accuracy: 0.8875 - val_loss: 0.3319 - val_accuracy: 0.9046 - 24s/epoch - 127ms/step\n",
      "Epoch 5/10\n",
      "188/188 - 19s - loss: 0.3275 - accuracy: 0.9055 - val_loss: 0.3465 - val_accuracy: 0.8979 - 19s/epoch - 103ms/step\n",
      "Epoch 6/10\n",
      "188/188 - 25s - loss: 0.2901 - accuracy: 0.9161 - val_loss: 0.2769 - val_accuracy: 0.9207 - 25s/epoch - 135ms/step\n",
      "Epoch 7/10\n",
      "188/188 - 27s - loss: 0.2591 - accuracy: 0.9246 - val_loss: 0.2635 - val_accuracy: 0.9216 - 27s/epoch - 144ms/step\n",
      "Epoch 8/10\n",
      "188/188 - 23s - loss: 0.2375 - accuracy: 0.9315 - val_loss: 0.2567 - val_accuracy: 0.9256 - 23s/epoch - 123ms/step\n",
      "Epoch 9/10\n",
      "188/188 - 33s - loss: 0.2175 - accuracy: 0.9361 - val_loss: 0.2171 - val_accuracy: 0.9386 - 33s/epoch - 177ms/step\n",
      "Epoch 10/10\n",
      "188/188 - 23s - loss: 0.2029 - accuracy: 0.9404 - val_loss: 0.1973 - val_accuracy: 0.9438 - 23s/epoch - 122ms/step\n"
     ]
    },
    {
     "data": {
      "text/plain": [
       "<keras.callbacks.History at 0x7faa95b4d9a0>"
      ]
     },
     "execution_count": 16,
     "metadata": {},
     "output_type": "execute_result"
    }
   ],
   "source": [
    "n_epochs = 10\n",
    "batch_size = 256\n",
    "validation_split = 0.2\n",
    "history_relu = history_loss()\n",
    "model_relu.fit(X_train, y_train, epochs=n_epochs,batch_size=batch_size,callbacks=[history_relu],validation_split=validation_split, verbose=2)"
   ]
  },
  {
   "cell_type": "code",
   "execution_count": null,
   "metadata": {
    "colab": {
     "base_uri": "https://localhost:8080/",
     "height": 295
    },
    "id": "_EdYDRE2Y2V5",
    "outputId": "b23dfd27-5cc0-4e21-cad5-8f3a4051cab4"
   },
   "outputs": [
    {
     "data": {
      "image/png": "[encoded data removed]",
      "text/plain": [
       "<Figure size 432x288 with 1 Axes>"
      ]
     },
     "metadata": {
      "needs_background": "light"
     },
     "output_type": "display_data"
    }
   ],
   "source": [
    "plt.plot(np.arange(len(history_sigmoid.losses)), history_sigmoid.losses, label = 'sigmoid')\n",
    "plt.plot(np.arange(len(history_relu.losses)), history_relu.losses, label = 'relu')\n",
    "plt.title('losses for sigmoid and relu model')\n",
    "plt.xlabel(\"no of batches\")\n",
    "plt.ylabel(\"loss\")\n",
    "plt.legend(loc=1)\n",
    "plt.show()"
   ]
  },
  {
   "cell_type": "code",
   "execution_count": null,
   "metadata": {
    "id": "_joA9-pZkmDl"
   },
   "outputs": [],
   "source": [
    "w_sigmoid =[]\n",
    "w_relu = []\n",
    "for i in range(len(model_sigmoid.layers)):\n",
    "  w_sigmoid.append(max(model_sigmoid.layers[i].get_weights()[1]))\n",
    "  w_relu.append(max(model_relu.layers[i].get_weights()[1]))"
   ]
  },
  {
   "cell_type": "code",
   "execution_count": null,
   "metadata": {
    "colab": {
     "base_uri": "https://localhost:8080/",
     "height": 295
    },
    "id": "r8Uch5KLlWTI",
    "outputId": "3ab1f13a-26b3-4624-e10f-305b7b6e19ef"
   },
   "outputs": [
    {
     "data": {
      "image/png": "[encoded data removed]",
      "text/plain": [
       "<Figure size 432x288 with 1 Axes>"
      ]
     },
     "metadata": {
      "needs_background": "light"
     },
     "output_type": "display_data"
    }
   ],
   "source": [
    "fig, ax = plt.subplots()\n",
    "index = np.arange(len(model_sigmoid.layers))\n",
    "bar_width = 0.35\n",
    "plt.bar(index, w_sigmoid, bar_width, label = 'sigmoid', color = 'b', alpha = 0.4)\n",
    "plt.bar(index+bar_width, w_relu, bar_width, label = 'relu', color = 'r', alpha = 0.4)\n",
    "plt.title(\"Maximum weights across layers for sigmoid and relu activation functions\")\n",
    "plt.xlabel(\"Layer number\")\n",
    "plt.ylabel(\"maximum weight\")\n",
    "plt.legend(loc =0 )\n",
    "plt.xticks(index+bar_width/2, np.arange(8))\n",
    "plt.show()"
   ]
  },
  {
   "cell_type": "code",
   "execution_count": null,
   "metadata": {
    "id": "CCJ5Vytdmux8"
   },
   "outputs": [],
   "source": []
  }
 ],
 "metadata": {
  "colab": {
   "provenance": []
  },
  "kernelspec": {
   "display_name": "Python 3 (ipykernel)",
   "language": "python",
   "name": "python3"
  },
  "language_info": {
   "codemirror_mode": {
    "name": "ipython",
    "version": 3
   },
   "file_extension": ".py",
   "mimetype": "text/x-python",
   "name": "python",
   "nbconvert_exporter": "python",
   "pygments_lexer": "ipython3",
   "version": "3.11.0"
  }
 },
 "nbformat": 4,
 "nbformat_minor": 1
}
